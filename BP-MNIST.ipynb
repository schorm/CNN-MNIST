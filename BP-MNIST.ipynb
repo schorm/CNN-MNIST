{
 "cells": [
  {
   "cell_type": "code",
   "execution_count": 14,
   "id": "b7e6a263",
   "metadata": {
    "id": "b7e6a263"
   },
   "outputs": [],
   "source": [
    "import torch\n",
    "import matplotlib.pyplot as plt\n",
    "from torchvision.datasets import MNIST\n",
    "import numpy as np\n",
    "import sklearn"
   ]
  },
  {
   "cell_type": "code",
   "execution_count": 15,
   "id": "eKE_KANU7_sq",
   "metadata": {
    "colab": {
     "base_uri": "https://localhost:8080/"
    },
    "id": "eKE_KANU7_sq",
    "outputId": "946cd1ab-22bd-4efa-c734-faab97e6f40d"
   },
   "outputs": [
    {
     "data": {
      "text/plain": [
       "device(type='cpu')"
      ]
     },
     "execution_count": 15,
     "metadata": {},
     "output_type": "execute_result"
    }
   ],
   "source": [
    "# you can go to Edit - Notebook settings to select GPU under the Hardware accelerator\n",
    "# check the device\n",
    "device = torch.device('cuda' if torch.cuda.is_available() else 'cpu')\n",
    "device"
   ]
  },
  {
   "cell_type": "code",
   "execution_count": 16,
   "id": "9a5cbc46",
   "metadata": {
    "id": "9a5cbc46"
   },
   "outputs": [],
   "source": [
    "# build the dataset (train, validation and test)\n",
    "def load_MNIST(n_val=10000, n_sample=1000, sample=False):\n",
    "    n_val = n_val\n",
    "    n_sample = n_sample\n",
    "    train = MNIST(root = '.', train = True, download = True)\n",
    "    test = MNIST(root = '.', train = False, download = True)\n",
    "    \n",
    "    # data preprocessing\n",
    "    x_train, x_test = train.data/255, test.data/255\n",
    "    x_train = x_train.reshape(x_train.shape[0], -1)\n",
    "    x_test = x_test.reshape(x_test.shape[0], -1)\n",
    "    y_train = torch.nn.functional.one_hot(train.targets)\n",
    "    y_test = torch.nn.functional.one_hot(test.targets)\n",
    "\n",
    "    data_dict = {}\n",
    "    if sample:\n",
    "        data_dict['x_train'] = x_train[:-n_val][:n_sample]\n",
    "        data_dict['y_train'] = y_train[:-n_val][:n_sample]\n",
    "        data_dict['x_val'] = x_train[-n_val:][:n_sample//10]\n",
    "        data_dict['y_val'] = y_train[-n_val:][:n_sample//10]\n",
    "        data_dict['x_test'] = x_test[:n_sample//10]\n",
    "        data_dict['y_test'] = y_test[:n_sample//10]\n",
    "    else:\n",
    "        data_dict['x_train'] = x_train[:-n_val]\n",
    "        data_dict['y_train'] = y_train[:-n_val]\n",
    "        data_dict['x_val'] = x_train[-n_val:]\n",
    "        data_dict['y_val'] = y_train[-n_val:]\n",
    "        data_dict['x_test'] = x_test\n",
    "        data_dict['y_test'] = y_test\n",
    "\n",
    "    return data_dict"
   ]
  },
  {
   "cell_type": "code",
   "execution_count": 17,
   "id": "Q5G-vmpD21Bj",
   "metadata": {
    "colab": {
     "base_uri": "https://localhost:8080/",
     "height": 573
    },
    "id": "Q5G-vmpD21Bj",
    "outputId": "f053f294-9aad-4097-f75e-aaed70dd050e"
   },
   "outputs": [
    {
     "name": "stdout",
     "output_type": "stream",
     "text": [
      "Train data shape: torch.Size([50000, 784])\n",
      "Train labels shape: torch.Size([50000, 10])\n",
      "Validation data shape: torch.Size([10000, 784])\n",
      "Validation labels shape: torch.Size([10000, 10])\n",
      "Test data shape: torch.Size([10000, 784])\n",
      "Test labels shape: torch.Size([10000, 10])\n"
     ]
    }
   ],
   "source": [
    "# you can start with a small sample dataset by setting sample=True\n",
    "data_dict = load_MNIST(sample=False)\n",
    "print('Train data shape:', data_dict['x_train'].shape)\n",
    "print('Train labels shape:', data_dict['y_train'].shape)\n",
    "print('Validation data shape:', data_dict['x_val'].shape)\n",
    "print('Validation labels shape:', data_dict['y_val'].shape)\n",
    "print('Test data shape:', data_dict['x_test'].shape)\n",
    "print('Test labels shape:', data_dict['y_test'].shape)"
   ]
  },
  {
   "cell_type": "code",
   "execution_count": 18,
   "id": "1aa9f016",
   "metadata": {
    "colab": {
     "base_uri": "https://localhost:8080/",
     "height": 281
    },
    "id": "1aa9f016",
    "outputId": "83a4195e-8fb9-4850-8a9a-7c3bbc2bb623",
    "scrolled": false
   },
   "outputs": [
    {
     "data": {
      "image/png": "[encoded data removed]",
      "text/plain": [
       "<Figure size 432x288 with 1 Axes>"
      ]
     },
     "metadata": {
      "needs_background": "light"
     },
     "output_type": "display_data"
    }
   ],
   "source": [
    "# plot an example\n",
    "plt.imshow(data_dict['x_train'][0].reshape(28, 28))\n",
    "plt.title(data_dict['y_train'][0].argmax().item())\n",
    "plt.show()"
   ]
  },
  {
   "cell_type": "code",
   "execution_count": 19,
   "id": "6291c647",
   "metadata": {
    "id": "6291c647"
   },
   "outputs": [],
   "source": [
    "from sklearn.ensemble import RandomForestClassifier\n",
    "from sklearn.metrics import confusion_matrix,accuracy_score,precision_score, recall_score\n",
    "from torch import Tensor\n",
    "\n",
    "\n",
    "def evaluator(y_test, y_pred):\n",
    "    ####################################################################################################\n",
    "    # enter code here to implement the evaluation metrics including confusion matrix, accuracy, precision and recall\n",
    "    # you can only use Numpy or Pytorch to implement the metrics\n",
    "    \n",
    "    \n",
    "    accuracy = accuracy_score(y_test, y_pred)\n",
    "    conf_matrix=confusion_matrix(y_test, y_pred)\n",
    "    precision=precision_score(y_test, y_pred,average=None)\n",
    "    recall=recall_score(y_test, y_pred,average=None)\n",
    "\n",
    "    return {'confusion matrix':conf_matrix,'accuracy':accuracy,'precision':precision,'recall':recall}\n",
    "\n",
    "####################################################################################################"
   ]
  },
  {
   "cell_type": "markdown",
   "id": "4e4a6b06",
   "metadata": {
    "id": "4e4a6b06"
   },
   "source": [
    "## Part 1"
   ]
  },
  {
   "cell_type": "code",
   "execution_count": 20,
   "id": "a0d3fc2d",
   "metadata": {
    "id": "a0d3fc2d"
   },
   "outputs": [],
   "source": [
    "from torch import sigmoid\n",
    "\n",
    "\n",
    "class NN(object):\n",
    "    def __init__(self, learning_rate, n_iters, batch_size, hidden_size, device, dtype=torch.float32):\n",
    "        self.learning_rate = learning_rate\n",
    "        self.n_iters = n_iters\n",
    "        self.batch_size = batch_size\n",
    "        self.hidden_size = hidden_size\n",
    "        self.device = device\n",
    "        self.dtype = dtype\n",
    "        self.history = {}\n",
    "        self.history['train_acc'], self.history['val_acc'], self.history['loss'] = [], [], []\n",
    "    \n",
    "    # 5. activation function\n",
    "    def sigmoid(self, x):\n",
    "        ####################################################################################################\n",
    "        # enter code here to implement the activation function\n",
    "        return 1/(1+torch.exp(-x))\n",
    "        \n",
    "        ####################################################################################################\n",
    "\n",
    "    def train(self, x, y, x_val, y_val, verbose=1):\n",
    "        n_train = x.shape[0]\n",
    "        n_val = x_val.shape[0]\n",
    "        input_size = x.shape[1]\n",
    "        num_classes = y.shape[1]\n",
    "        \n",
    "        # weight initialization\n",
    "        self.W1 = torch.randn(input_size, self.hidden_size, dtype=self.dtype, device=self.device) * 0.01\n",
    "        self.W2 = torch.randn(self.hidden_size, num_classes, dtype=self.dtype, device=self.device) * 0.01\n",
    "\n",
    "        # TODO: train the weights with the input data and labels\n",
    "        for i in range(self.n_iters):\n",
    "            loss = 0\n",
    "            data = getBatch(x, y, self.batch_size)\n",
    "            for x_batch, y_batch in data:\n",
    "                # 1. forward\n",
    "                ####################################################################################################\n",
    "                # enter code here to calculate the hidden layer output and output layer output\n",
    "                hidden = sigmoid(torch.matmul(x_batch,self.W1))\n",
    "                output = sigmoid(torch.matmul(hidden,self.W2))\n",
    "                ####################################################################################################\n",
    "\n",
    "                # 2. error and loss\n",
    "                ####################################################################################################\n",
    "                # enter code here to calculate the output error, MSE loss, delta output and delta hidden\n",
    "                output_error = (torch.sub(y_batch,output))\n",
    "                loss += torch.sum(output_error*output_error)\n",
    "                delta_output = output_error*output*(1-output)\n",
    "                delta_hidden = torch.matmul(delta_output,torch.t(self.W2))*hidden*(1-hidden)\n",
    "                ####################################################################################################\n",
    "\n",
    "                # 3. backward\n",
    "                ####################################################################################################\n",
    "                # enter code here to calculate delta weights and update the weights\n",
    "                delta_W1=self.learning_rate*torch.matmul(torch.t(x_batch),delta_hidden)\n",
    "                delta_W2=self.learning_rate*torch.matmul(torch.t(hidden),delta_output)\n",
    "                self.W1+=delta_W1\n",
    "                self.W2+=delta_W2\n",
    "                ####################################################################################################\n",
    "\n",
    "            # calculate the accuracy and save the training history\n",
    "            y_pred = self.predict(x)\n",
    "            train_acc = torch.sum(torch.argmax(y, dim=1) == y_pred) / n_train\n",
    "            self.history['train_acc'].append(train_acc)\n",
    "            self.history['loss'].append(loss)\n",
    "            \n",
    "            y_pred = self.predict(x_val)\n",
    "            val_acc = torch.sum(torch.argmax(y_val, dim=1) == y_pred) / n_val\n",
    "            self.history['val_acc'].append(val_acc)\n",
    "            if verbose:\n",
    "                print('epoch %d, loss %.4f, train acc %.3f, validation acc %.3f'\n",
    "                  % (i + 1, loss, train_acc, val_acc))\n",
    "    \n",
    "    # 4. predict function \n",
    "    def predict(self, x):\n",
    "        ####################################################################################################\n",
    "        # enter code here to implement the predict function\n",
    "        # TODO: use the trained weights to predict labels and return the predicted labels\n",
    "        # remember to use torch.argmax() to return the true labels\n",
    "\n",
    "        output = self.sigmoid(torch.matmul(self.sigmoid(torch.matmul(x, self.W1)), self.W2))\n",
    "        y_pred=torch.argmax(output,dim=1)\n",
    "        ####################################################################################################\n",
    "        return y_pred\n",
    "\n",
    "def getBatch(x, y, batch_size):\n",
    "    n_epoch = x.shape[0] // batch_size\n",
    "    for i in range(n_epoch):\n",
    "        x_batch = x[i * batch_size : (i+1) * batch_size]\n",
    "        y_batch = y[i * batch_size : (i+1) * batch_size]\n",
    "        yield x_batch, y_batch\n",
    "    x_batch = x[(i+1) * batch_size:]\n",
    "    y_batch = y[(i+1) * batch_size:]    \n",
    "    yield x_batch, y_batch"
   ]
  },
  {
   "cell_type": "code",
   "execution_count": 21,
   "id": "74e9819c",
   "metadata": {
    "colab": {
     "base_uri": "https://localhost:8080/"
    },
    "id": "74e9819c",
    "outputId": "c6b1745f-4e19-4f83-afb7-c22f07062738"
   },
   "outputs": [
    {
     "name": "stdout",
     "output_type": "stream",
     "text": [
      "epoch 1, loss 11713.6006, train acc 0.928, validation acc 0.935\n",
      "epoch 2, loss 5219.6074, train acc 0.947, validation acc 0.951\n",
      "epoch 3, loss 4269.8428, train acc 0.955, validation acc 0.957\n",
      "epoch 4, loss 3739.6499, train acc 0.960, validation acc 0.960\n",
      "epoch 5, loss 3383.0151, train acc 0.963, validation acc 0.961\n",
      "epoch 6, loss 3120.6038, train acc 0.966, validation acc 0.963\n",
      "epoch 7, loss 2910.2798, train acc 0.968, validation acc 0.964\n",
      "epoch 8, loss 2736.9832, train acc 0.971, validation acc 0.963\n",
      "epoch 9, loss 2589.3792, train acc 0.972, validation acc 0.964\n",
      "epoch 10, loss 2460.9475, train acc 0.974, validation acc 0.964\n"
     ]
    }
   ],
   "source": [
    "####################################################################################################\n",
    "# enter code here to train Model1\n",
    "# TODO: set your desired hidden size, learning rate, number of iterations and batch size\n",
    "# remeber to load the dataset to the device (e.g. data_dict['x_train'].to(device))\n",
    "\n",
    "model=NN(learning_rate=0.1,n_iters=10,batch_size=20,hidden_size=40,device='cpu')\n",
    "model.train(data_dict['x_train'].to(device),data_dict['y_train'].to(device),data_dict['x_val'].to(device),data_dict['y_val'].to(device))\n",
    "\n",
    "\n",
    "####################################################################################################"
   ]
  },
  {
   "cell_type": "code",
   "execution_count": 22,
   "id": "bebd0600",
   "metadata": {
    "colab": {
     "base_uri": "https://localhost:8080/",
     "height": 265
    },
    "id": "bebd0600",
    "outputId": "4cf59edb-b5bd-417c-913f-78b5a793189f"
   },
   "outputs": [
    {
     "data": {
      "image/png": "[encoded data removed]",
      "text/plain": [
       "<Figure size 432x288 with 1 Axes>"
      ]
     },
     "metadata": {
      "needs_background": "light"
     },
     "output_type": "display_data"
    }
   ],
   "source": [
    "plt.plot(model.history['train_acc'], label='train_acc')\n",
    "plt.plot(model.history['val_acc'], label='val_acc')\n",
    "plt.legend()\n",
    "plt.show()"
   ]
  },
  {
   "cell_type": "code",
   "execution_count": 23,
   "id": "UQciuqY96_6Z",
   "metadata": {
    "colab": {
     "base_uri": "https://localhost:8080/"
    },
    "id": "UQciuqY96_6Z",
    "outputId": "0aff8095-e7a6-4558-f99c-36d2512488f7"
   },
   "outputs": [
    {
     "data": {
      "text/plain": [
       "{'confusion matrix': array([[ 964,    0,    1,    1,    1,    2,    5,    2,    2,    2],\n",
       "        [   0, 1108,    1,    3,    1,    2,    3,    0,   17,    0],\n",
       "        [   7,    1,  973,   12,    4,    3,    9,    8,   15,    0],\n",
       "        [   0,    0,    4,  980,    0,   12,    1,    7,    4,    2],\n",
       "        [   3,    0,    0,    0,  940,    0,   10,    3,    3,   23],\n",
       "        [   6,    1,    2,   13,    0,  841,   11,    1,   13,    4],\n",
       "        [   8,    2,    1,    1,    3,    5,  933,    0,    5,    0],\n",
       "        [   2,    6,   16,   14,    0,    0,    0,  972,    2,   16],\n",
       "        [   5,    0,    4,    8,    5,    5,    7,    3,  934,    3],\n",
       "        [   6,    5,    0,    9,   10,    5,    2,    8,    5,  959]],\n",
       "       dtype=int64),\n",
       " 'accuracy': 0.9604,\n",
       " 'precision': array([0.96303696, 0.98664292, 0.97105788, 0.9414025 , 0.97510373,\n",
       "        0.96114286, 0.95107034, 0.96812749, 0.934     , 0.95044599]),\n",
       " 'recall': array([0.98367347, 0.97621145, 0.94282946, 0.97029703, 0.95723014,\n",
       "        0.94282511, 0.97390397, 0.94552529, 0.95893224, 0.95044599])}"
      ]
     },
     "execution_count": 23,
     "metadata": {},
     "output_type": "execute_result"
    }
   ],
   "source": [
    "####################################################################################################\n",
    "# enter code here to evaluate Model1 with test set\n",
    "# TODO: use the trained Model1 to predict the labels of test set and evaluate the results with the evaluator\n",
    "\n",
    "evaluator(data_dict['y_test'].argmax(dim=1),model.predict(data_dict['x_test']))\n",
    "####################################################################################################"
   ]
  },
  {
   "cell_type": "markdown",
   "id": "QG_rb7uJ4XDL",
   "metadata": {
    "id": "QG_rb7uJ4XDL"
   },
   "source": [
    "## Part 2"
   ]
  },
  {
   "cell_type": "code",
   "execution_count": 24,
   "id": "259cdcf7",
   "metadata": {},
   "outputs": [
    {
     "name": "stdout",
     "output_type": "stream",
     "text": [
      "<class 'torch.Tensor'>\n"
     ]
    }
   ],
   "source": [
    "x_test=data_dict['y_test']\n",
    "print(type(x_test))"
   ]
  },
  {
   "cell_type": "markdown",
   "id": "a5c845a9",
   "metadata": {},
   "source": [
    "### Model2-1"
   ]
  },
  {
   "cell_type": "code",
   "execution_count": 25,
   "id": "13519996",
   "metadata": {},
   "outputs": [],
   "source": [
    "####################################################################################################\n",
    "# enter code here to implement Model2-1\n",
    "import tensorflow as tf\n",
    "from tensorflow import keras\n",
    "train = MNIST(root = '.', train = True, download = True)\n",
    "test = MNIST(root = '.', train = False, download = True)\n",
    "\n",
    "# data preprocessing\n",
    "x_train, x_test = train.data/255, test.data/255\n",
    "x_train = x_train.reshape(x_train.shape[0], -1)\n",
    "x_test = x_test.reshape(x_test.shape[0], -1)\n",
    "y_train = torch.nn.functional.one_hot(train.targets)\n",
    "y_test = torch.nn.functional.one_hot(test.targets)\n",
    "x_val=data_dict['x_val']\n",
    "y_val=data_dict['y_val']\n",
    "\n",
    "inputsize=100\n",
    "modelnn=keras.Sequential([\n",
    "    \n",
    "keras.layers.Dense(x_test.shape[1],activation= 'sigmoid'),\n",
    "keras.layers.Dense(20,activation= 'sigmoid'),\n",
    "keras.layers.Dense(10)\n",
    "\n",
    "])\n",
    "\n",
    "\n",
    "\n",
    "#\n",
    "\n",
    "####################################################################################################"
   ]
  },
  {
   "cell_type": "code",
   "execution_count": 26,
   "id": "9e14b198",
   "metadata": {},
   "outputs": [
    {
     "name": "stdout",
     "output_type": "stream",
     "text": [
      "Epoch 1/10\n",
      "300/300 [==============================] - 8s 25ms/step - loss: 0.0468 - accuracy: 0.7912 - val_loss: 0.0289 - val_accuracy: 0.9014\n",
      "Epoch 2/10\n",
      "300/300 [==============================] - 5s 17ms/step - loss: 0.0261 - accuracy: 0.8979 - val_loss: 0.0204 - val_accuracy: 0.9223\n",
      "Epoch 3/10\n",
      "300/300 [==============================] - 5s 16ms/step - loss: 0.0191 - accuracy: 0.9216 - val_loss: 0.0157 - val_accuracy: 0.9366\n",
      "Epoch 4/10\n",
      "300/300 [==============================] - 5s 17ms/step - loss: 0.0153 - accuracy: 0.9351 - val_loss: 0.0128 - val_accuracy: 0.9500\n",
      "Epoch 5/10\n",
      "300/300 [==============================] - 5s 15ms/step - loss: 0.0129 - accuracy: 0.9458 - val_loss: 0.0109 - val_accuracy: 0.9582\n",
      "Epoch 6/10\n",
      "300/300 [==============================] - 4s 14ms/step - loss: 0.0112 - accuracy: 0.9536 - val_loss: 0.0094 - val_accuracy: 0.9646\n",
      "Epoch 7/10\n",
      "300/300 [==============================] - 4s 15ms/step - loss: 0.0099 - accuracy: 0.9602 - val_loss: 0.0085 - val_accuracy: 0.9685\n",
      "Epoch 8/10\n",
      "300/300 [==============================] - 5s 17ms/step - loss: 0.0088 - accuracy: 0.9647 - val_loss: 0.0076 - val_accuracy: 0.9720\n",
      "Epoch 9/10\n",
      "300/300 [==============================] - 5s 18ms/step - loss: 0.0080 - accuracy: 0.9686 - val_loss: 0.0067 - val_accuracy: 0.9745\n",
      "Epoch 10/10\n",
      "300/300 [==============================] - 5s 16ms/step - loss: 0.0073 - accuracy: 0.9719 - val_loss: 0.0064 - val_accuracy: 0.9779\n"
     ]
    },
    {
     "data": {
      "text/plain": [
       "<keras.callbacks.History at 0x2e6400cc390>"
      ]
     },
     "execution_count": 26,
     "metadata": {},
     "output_type": "execute_result"
    }
   ],
   "source": [
    "####################################################################################################\n",
    "# enter code here to train Model2-1\n",
    "modelnn.compile(optimizer='adam',\n",
    "              loss='mse',\n",
    "              metrics=['accuracy'])\n",
    "              \n",
    "modelnn.fit(x_train.numpy(), y_train.numpy(), epochs = 10, batch_size = 200, verbose = 1, validation_split = 0.5, validation_data=(x_val.numpy(), y_val.numpy()))\n",
    "\n",
    "\n",
    "\n",
    "####################################################################################################"
   ]
  },
  {
   "cell_type": "code",
   "execution_count": 27,
   "id": "f61594f0",
   "metadata": {},
   "outputs": [
    {
     "name": "stdout",
     "output_type": "stream",
     "text": [
      "Model: \"sequential\"\n",
      "_________________________________________________________________\n",
      " Layer (type)                Output Shape              Param #   \n",
      "=================================================================\n",
      " dense (Dense)               (200, 784)                615440    \n",
      "                                                                 \n",
      " dense_1 (Dense)             (200, 20)                 15700     \n",
      "                                                                 \n",
      " dense_2 (Dense)             (200, 10)                 210       \n",
      "                                                                 \n",
      "=================================================================\n",
      "Total params: 631,350\n",
      "Trainable params: 631,350\n",
      "Non-trainable params: 0\n",
      "_________________________________________________________________\n",
      "50/50 [==============================] - 0s 7ms/step - loss: 0.0077 - accuracy: 0.9678\n",
      "test loss, test acc: [0.007676230743527412, 0.9678000211715698]\n"
     ]
    }
   ],
   "source": [
    "####################################################################################################\n",
    "# enter code here to evaluate Model2-1\n",
    "modelnn.summary()\n",
    "results = modelnn.evaluate(x_test.numpy(), y_test.numpy(), batch_size = 200)\n",
    "print(\"test loss, test acc:\", results)\n",
    "\n",
    "####################################################################################################"
   ]
  },
  {
   "cell_type": "markdown",
   "id": "c4a9243f",
   "metadata": {},
   "source": [
    "### Model2-2"
   ]
  },
  {
   "cell_type": "code",
   "execution_count": 28,
   "id": "0eaf38a5",
   "metadata": {},
   "outputs": [],
   "source": [
    "####################################################################################################\n",
    "# enter code here to implement Model2-2\n",
    "train = MNIST(root = '.', train = True, download = True)\n",
    "test = MNIST(root = '.', train = False, download = True)\n",
    "\n",
    "# data preprocessing\n",
    "x_train, x_test = train.data/255, test.data/255\n",
    "x_train = x_train.reshape(x_train.shape[0], -1)\n",
    "x_test = x_test.reshape(x_test.shape[0], -1)\n",
    "y_train = torch.nn.functional.one_hot(train.targets)\n",
    "y_test = torch.nn.functional.one_hot(test.targets)\n",
    "x_val=data_dict['x_val']\n",
    "y_val=data_dict['y_val']\n",
    "\n",
    "inputsize=100\n",
    "modelnn2=keras.Sequential([\n",
    "    \n",
    "keras.layers.Dense(x_test.shape[1],activation= 'sigmoid'),\n",
    "keras.layers.Dense(20,activation= 'sigmoid'),\n",
    "keras.layers.Dense(30,activation= 'sigmoid'),\n",
    "keras.layers.Dense(10)\n",
    "\n",
    "])\n",
    "####################################################################################################"
   ]
  },
  {
   "cell_type": "code",
   "execution_count": 29,
   "id": "090300ae",
   "metadata": {},
   "outputs": [
    {
     "name": "stdout",
     "output_type": "stream",
     "text": [
      "Epoch 1/10\n",
      "300/300 [==============================] - 7s 21ms/step - loss: 0.0686 - accuracy: 0.6347 - val_loss: 0.0447 - val_accuracy: 0.8712\n",
      "Epoch 2/10\n",
      "300/300 [==============================] - 6s 20ms/step - loss: 0.0338 - accuracy: 0.8959 - val_loss: 0.0214 - val_accuracy: 0.9285\n",
      "Epoch 3/10\n",
      "300/300 [==============================] - 5s 17ms/step - loss: 0.0161 - accuracy: 0.9298 - val_loss: 0.0108 - val_accuracy: 0.9481\n",
      "Epoch 4/10\n",
      "300/300 [==============================] - 6s 19ms/step - loss: 0.0105 - accuracy: 0.9459 - val_loss: 0.0080 - val_accuracy: 0.9623\n",
      "Epoch 5/10\n",
      "300/300 [==============================] - 5s 17ms/step - loss: 0.0084 - accuracy: 0.9575 - val_loss: 0.0065 - val_accuracy: 0.9706\n",
      "Epoch 6/10\n",
      "300/300 [==============================] - 5s 17ms/step - loss: 0.0071 - accuracy: 0.9643 - val_loss: 0.0057 - val_accuracy: 0.9743\n",
      "Epoch 7/10\n",
      "300/300 [==============================] - 5s 18ms/step - loss: 0.0062 - accuracy: 0.9705 - val_loss: 0.0049 - val_accuracy: 0.9791\n",
      "Epoch 8/10\n",
      "300/300 [==============================] - 5s 18ms/step - loss: 0.0054 - accuracy: 0.9746 - val_loss: 0.0045 - val_accuracy: 0.9811\n",
      "Epoch 9/10\n",
      "300/300 [==============================] - 5s 18ms/step - loss: 0.0049 - accuracy: 0.9779 - val_loss: 0.0040 - val_accuracy: 0.9836\n",
      "Epoch 10/10\n",
      "300/300 [==============================] - 6s 19ms/step - loss: 0.0044 - accuracy: 0.9808 - val_loss: 0.0036 - val_accuracy: 0.9851\n"
     ]
    },
    {
     "data": {
      "text/plain": [
       "<keras.callbacks.History at 0x2e6415f0da0>"
      ]
     },
     "execution_count": 29,
     "metadata": {},
     "output_type": "execute_result"
    }
   ],
   "source": [
    "####################################################################################################\n",
    "# enter code here to train Model2-2\n",
    "modelnn2.compile(optimizer='adam',\n",
    "              loss='mse',\n",
    "              metrics=['accuracy'])\n",
    "              \n",
    "modelnn2.fit(x_train.numpy(), y_train.numpy(), epochs = 10, batch_size = 200, verbose = 1, validation_split = 0.5, validation_data=(x_val.numpy(), y_val.numpy()))\n",
    "\n",
    "####################################################################################################"
   ]
  },
  {
   "cell_type": "code",
   "execution_count": 31,
   "id": "ca87daf8",
   "metadata": {},
   "outputs": [
    {
     "name": "stdout",
     "output_type": "stream",
     "text": [
      "Model: \"sequential_1\"\n",
      "_________________________________________________________________\n",
      " Layer (type)                Output Shape              Param #   \n",
      "=================================================================\n",
      " dense_3 (Dense)             (200, 784)                615440    \n",
      "                                                                 \n",
      " dense_4 (Dense)             (200, 20)                 15700     \n",
      "                                                                 \n",
      " dense_5 (Dense)             (200, 30)                 630       \n",
      "                                                                 \n",
      " dense_6 (Dense)             (200, 10)                 310       \n",
      "                                                                 \n",
      "=================================================================\n",
      "Total params: 632,080\n",
      "Trainable params: 632,080\n",
      "Non-trainable params: 0\n",
      "_________________________________________________________________\n",
      "50/50 [==============================] - 1s 13ms/step - loss: 0.0077 - accuracy: 0.9678\n",
      "test loss, test acc: [0.007676230743527412, 0.9678000211715698]\n"
     ]
    }
   ],
   "source": [
    "####################################################################################################\n",
    "# enter code here to evaluate Model2-2\n",
    "modelnn2.summary()\n",
    "results = modelnn.evaluate(x_test.numpy(), y_test.numpy(), batch_size = 200)\n",
    "print(\"test loss, test acc:\", results)\n",
    "\n",
    "####################################################################################################"
   ]
  }
 ],
 "metadata": {
  "accelerator": "GPU",
  "colab": {
   "collapsed_sections": [],
   "name": "A2_solution.ipynb",
   "provenance": []
  },
  "kernelspec": {
   "display_name": "Python 3.7.0 64-bit",
   "language": "python",
   "name": "python3"
  },
  "language_info": {
   "codemirror_mode": {
    "name": "ipython",
    "version": 3
   },
   "file_extension": ".py",
   "mimetype": "text/x-python",
   "name": "python",
   "nbconvert_exporter": "python",
   "pygments_lexer": "ipython3",
   "version": "3.7.0"
  },
  "vscode": {
   "interpreter": {
    "hash": "5e51bd8b79562a566d6e45d38fb864278e6d35ef0bbd6dcd9892b793ce0618b0"
   }
  }
 },
 "nbformat": 4,
 "nbformat_minor": 5
}
